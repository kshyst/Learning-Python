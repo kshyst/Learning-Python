{
 "cells": [
  {
   "metadata": {},
   "cell_type": "markdown",
   "source": [
    "<h3>Add User</h3>\n",
    "\n",
    "<code>adduser kshyst</code>\n",
    "\n",
    "<p>add user to sudo group</p>\n",
    "<code>adduser kshyst sudo</code>\n",
    "\n"
   ],
   "id": "8e62cfeeae5077ef"
  },
  {
   "metadata": {},
   "cell_type": "markdown",
   "source": [
    "<h3>change host setting</h3>\n",
    "\n",
    "<code>hostnamectl set-hostname nigger</code>\n",
    "\n",
    "<p>then put the new hostname infront of the ip of server</p>\n",
    "<code>nano /etc/hosts</code>"
   ],
   "id": "70f0657ad783bd66"
  },
  {
   "cell_type": "markdown",
   "id": "79fa2b043e08f803",
   "metadata": {},
   "source": [
    "<h3>editing ssh configurations</h3>\n",
    "\n",
    "<code> sudo nano /etc/ssh/sshd_config\n",
    "<br>\n",
    "<code> sudo systemctl restart sshd\n"
   ]
  },
  {
   "cell_type": "markdown",
   "id": "9ad7859c9217297",
   "metadata": {},
   "source": [
    "<h3> ssh key location </h3>\n",
    "<code>~/.ssh</code>\n",
    "\n",
    "<code>mkdir -p ~/.ssh</code>\n",
    "\n"
   ]
  },
  {
   "cell_type": "markdown",
   "id": "a9a0fce25e9bbc1c",
   "metadata": {},
   "source": [
    "<h3>copy ssh key from personal device to server : example of sending file to server</h3>\n",
    "<code>scp icon.jpg kiarash@193.151.138.161:~/pics"
   ]
  },
  {
   "cell_type": "markdown",
   "id": "b499902c9a9596a9",
   "metadata": {},
   "source": [
    "<h2> Firewall </h2>\n",
    "\n",
    "<code> sudo apt-get install ufw </code>\n",
    "<br> \n",
    "<code> sudo ufw default allow outgoing </code>\n",
    "<br>\n",
    "<code> sudo ufw default deny incoming </code>\n",
    "<br> \n",
    "<code> sudo ufw allow ssh </code>\n",
    "<br>\n",
    "<code> sudo ufw allow 8000 </code>\n",
    "<br> \n",
    "<code> sudo ufw enable </code>\n",
    "\n",
    "<br>\n",
    "<p> this way you can do debuging only with ssh connection (port 22) and port 8000 </p>\n",
    "\n",
    "<br>\n",
    "<code> sudo ufw status </code>\n",
    "\n",
    "<p> it is gonna be live on port 80</p>"
   ]
  },
  {
   "cell_type": "markdown",
   "id": "de18db1fc3bd28e5",
   "metadata": {},
   "source": [
    "<h3>Virtual Enviroment</h3>\n",
    "\n",
    "<code>python3 -m venv MyPortfolio/venv</code>\n",
    "\n",
    "<p>this makes a virtual enviroment in given directory</p>\n",
    "\n",
    "<code>source venv/bin/activate</code>\n",
    "\n",
    "<p>this activates the virtual environment</p>\n",
    "\n"
   ]
  },
  {
   "metadata": {},
   "cell_type": "markdown",
   "source": [
    "<h3>Apache</h3>\n",
    "\n",
    "<code>sudo apt-get install apache2</code>\n",
    "\n",
    "<code>sudo apt-get install libapache2-mod-wsgi-py3</code>\n",
    "\n",
    "<h3>configuration files of apache</h3>\n",
    "<code>cd /etc/apache2/sites-available/</code>\n",
    "\n",
    "<h3>make a copy of default configuration file</h3>\n",
    "<code>sudo cp 000-default.conf myportfolio.conf</code>\n",
    "<code>sudo nano myportfolio.conf</code>\n",
    "\n",
    "<p>it says 80 at top which means the default port</p>\n",
    "\n",
    "<p>add these codes</p>\n",
    "\n",
    "<code>Alias /static /home/kiarash/site/Portfolio/static\n",
    "        <Directory /home/kiarash/site/Portfolio/static>\n",
    "                Require all granted\n",
    "        </Directory>\n",
    "</code>\n",
    "\n",
    "<code>\n",
    "    Alias /media /home/kiarash/site/Portfolio/media\n",
    "        <Directory /home/kiarash/site/Portfolio/media>\n",
    "                Require all granted\n",
    "        </Directory>\n",
    "</code>\n",
    "\n",
    "<code>\n",
    "    <Directory /home/kiarash/site/Portfolio/MyPortfolio>\n",
    "                <Files wsgi.py>\n",
    "                        Require all granted\n",
    "                </Files>\n",
    "\n",
    "        </Directory>\n",
    "</code>\n",
    "\n",
    "\n",
    "<code>\n",
    "        WSGIScriptAlias / /home/kiarash/site/Portfolio/MyPortfolio/wsgi.py\n",
    "        WSGIDaemonProcess portfolio_daemon python-path=/home/kiarash/site/Portfolio python-home=/home/kiarash/site/Portfolio/env\n",
    "        WSGIProcessGroup portfolio_daemon\n",
    "</code>\n",
    "\n"
   ],
   "id": "428b326195c03efa"
  },
  {
   "metadata": {},
   "cell_type": "markdown",
   "source": [
    "<h3>starting apache</h3>\n",
    "\n",
    "<p>disabling default site</p>\n",
    "<code>sudo a2dissite 000-default.conf</code>\n",
    "<code>sudo a2ensite myportfolio.conf</code>\n",
    "\n",
    "<p>change the permision and ownership of sql file and project</p>\n",
    "<code>sudo chown :www-data site/Portfolio/db.sqlite3</code>\n",
    "\n",
    "<code>sudo chmod 664 site/Portfolio/db.sqlite3</code>\n",
    "\n",
    "<code>sudo chown :www-data site/Portfolio/</code>\n",
    "\n",
    "<p>use this to see owner ships and permissions</p>\n",
    "<code>ls -la</code>"
   ],
   "id": "2ecc731b2cf7dca9"
  },
  {
   "metadata": {},
   "cell_type": "markdown",
   "source": "",
   "id": "ef1cbbc7e59b515f"
  },
  {
   "metadata": {},
   "cell_type": "markdown",
   "source": [
    "<h3>change firewall settings out of debug mode</h3>\n",
    "\n",
    "<code>sudo ufw delete allow 8000</code>\n",
    "\n",
    "<code>sudo ufw allow http/tcp</code>\n",
    "\n",
    "<p>restart apache server</p>\n",
    "\n",
    "<code>sudo service apache2 restart</code>\n"
   ],
   "id": "e5b2b8c285f02daa"
  }
 ],
 "metadata": {
  "kernelspec": {
   "display_name": "Python 3 (ipykernel)",
   "language": "python",
   "name": "python3"
  },
  "language_info": {
   "codemirror_mode": {
    "name": "ipython",
    "version": 3
   },
   "file_extension": ".py",
   "mimetype": "text/x-python",
   "name": "python",
   "nbconvert_exporter": "python",
   "pygments_lexer": "ipython3",
   "version": "3.12.2"
  }
 },
 "nbformat": 4,
 "nbformat_minor": 5
}
