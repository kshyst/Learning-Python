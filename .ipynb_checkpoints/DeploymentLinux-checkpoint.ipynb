{
 "cells": [
  {
   "metadata": {},
   "cell_type": "markdown",
   "source": [
    "<h3>editing ssh configurations</h3>\n",
    "\n",
    "<code> sudo nano /etc/ssh/sshd_config\n",
    "<br>\n",
    "<code> sudo systemctl restart sshd\n"
   ],
   "id": "79fa2b043e08f803"
  },
  {
   "metadata": {},
   "cell_type": "markdown",
   "source": [
    "<h3> ssh key location </h3>\n",
    "<code>~/.ssh"
   ],
   "id": "9ad7859c9217297"
  },
  {
   "metadata": {},
   "cell_type": "markdown",
   "source": [
    "<h3>copy ssh key from personal device to server : example of sending file to server</h3>\n",
    "<code>scp icon.jpg kiarash@193.151.138.161:~/pics"
   ],
   "id": "a9a0fce25e9bbc1c"
  },
  {
   "metadata": {},
   "cell_type": "markdown",
   "source": [
    "<h2> Firewall </h2>\n",
    "\n",
    "<code> sudo apt-get install ufw </code>\n",
    "<br> \n",
    "<code> sudo ufw default allow outgoing </code>\n",
    "<br>\n",
    "<code> sudo ufw default deny incoming </code>\n",
    "<br> \n",
    "<code> sudo ufw allow ssh </code>\n",
    "<br>\n",
    "<code> sudo ufw allow 8000 </code>\n",
    "<br> \n",
    "<code> sudo ufw enable </code>\n",
    "\n",
    "<br>\n",
    "<p> this way you can do debuging only with ssh connection (port 22) and port 8000 </p>\n",
    "\n",
    "<br>\n",
    "<code> sudo ufw status </code>"
   ],
   "id": "b499902c9a9596a9"
  },
  {
   "metadata": {},
   "cell_type": "code",
   "outputs": [],
   "execution_count": null,
   "source": "",
   "id": "1a9da7c02f88e65f"
  }
 ],
 "metadata": {
  "kernelspec": {
   "display_name": "Python 3",
   "language": "python",
   "name": "python3"
  },
  "language_info": {
   "codemirror_mode": {
    "name": "ipython",
    "version": 2
   },
   "file_extension": ".py",
   "mimetype": "text/x-python",
   "name": "python",
   "nbconvert_exporter": "python",
   "pygments_lexer": "ipython2",
   "version": "2.7.6"
  }
 },
 "nbformat": 4,
 "nbformat_minor": 5
}
