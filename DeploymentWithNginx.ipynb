{
 "cells": [
  {
   "metadata": {},
   "cell_type": "markdown",
   "source": [
    "<h3>Create a Gunicorn Systemd Service File:</h3>\n",
    "\n",
    "\n",
    "```bash\n",
    "sudo nano /etc/systemd/system/gunicorn.service\n",
    "```\n",
    "<pre><code>\n",
    "[Unit]\n",
    "Description=gunicorn daemon for myproject\n",
    "After=network.target\n",
    "\n",
    "[Service]\n",
    "User=yourusername\n",
    "Group=yourusername\n",
    "WorkingDirectory=/path/to/your/project\n",
    "ExecStart=/path/to/your/project/venv/bin/gunicorn --workers 3 --bind unix:/path/to/your/project/myproject.sock myproject.wsgi:application\n",
    "\n",
    "[Install]\n",
    "WantedBy=multi-user.target\n",
    "</code></pre>\n",
    "\n",
    "\n",
    "<p>then start the service</p>\n",
    "    \n",
    "```bash\n",
    "sudo systemctl start myproject\n",
    "sudo systemctl enable myproject\n",
    "```\n",
    "\n"
   ],
   "id": "766608bf8b923661"
  },
  {
   "metadata": {},
   "cell_type": "markdown",
   "source": [
    "<h3>install nginx</h3>\n",
    "\n",
    "```bash\n",
    "sudo apt install nginx\n",
    "```\n",
    "\n",
    "```bash\n",
    "sudo nano /etc/nginx/sites-available/myproject\n",
    "```\n",
    "<pre><code>\n",
    "server {\n",
    "    listen 80;\n",
    "    server_name your_domain_or_IP;\n",
    "\n",
    "    location = /favicon.ico { access_log off; log_not_found off; }\n",
    "    location /static/ {\n",
    "        root /path/to/your/project;\n",
    "    }\n",
    "\n",
    "    location / {\n",
    "        include proxy_params;\n",
    "        proxy_pass http://unix:/path/to/your/project/myproject.sock;\n",
    "    }\n",
    "}\n",
    "\n",
    "</code></pre>\n",
    "\n",
    "<h3>Verify Nginx User:</h3>\n",
    "\n",
    "```bash\n",
    "sudo usermod -a -G kshyst www-data\n",
    "```\n",
    "\n",
    "<h3>Enable the New Nginx Configuration:</h3>\n",
    "\n",
    "```bash\n",
    "sudo ln -s /etc/nginx/sites-available/myproject /etc/nginx/sites-enabled\n",
    "```\n",
    "\n",
    "<h3>Test and Restart Nginx:</h3>\n",
    "\n",
    "```bash\n",
    "sudo nginx -t\n",
    "sudo systemctl daemon-reload\n",
    "sudo systemctl restart myproject\n",
    "sudo systemctl restart nginx\n",
    "```"
   ],
   "id": "ab514ea82e5d8c7c"
  },
  {
   "metadata": {},
   "cell_type": "markdown",
   "source": [
    "<h3>Firewall</h3>\n",
    "\n",
    "```bash\n",
    "sudo ufw allow 'Nginx Full'\n",
    "```"
   ],
   "id": "f9fbd6e4002568a7"
  },
  {
   "metadata": {},
   "cell_type": "markdown",
   "source": [
    "<h3>Logging errors of nginx</h3>\n",
    "\n",
    "```bash\n",
    "sudo tail -f /var/log/nginx/error.log\n",
    "```"
   ],
   "id": "6e00410fbf0eb24f"
  }
 ],
 "metadata": {
  "kernelspec": {
   "display_name": "Python 3",
   "language": "python",
   "name": "python3"
  },
  "language_info": {
   "codemirror_mode": {
    "name": "ipython",
    "version": 2
   },
   "file_extension": ".py",
   "mimetype": "text/x-python",
   "name": "python",
   "nbconvert_exporter": "python",
   "pygments_lexer": "ipython2",
   "version": "2.7.6"
  }
 },
 "nbformat": 4,
 "nbformat_minor": 5
}
