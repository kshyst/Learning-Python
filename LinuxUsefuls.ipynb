{
 "cells": [
  {
   "metadata": {},
   "cell_type": "markdown",
   "source": [
    "<h3>Copying methods</h3>\n",
    "\n",
    "<h4>RCP : Remote Copy Protocol</h4>\n",
    "\n",
    "<p>not secure enough and not used anymore cause it uses plaintext to transfer data</p>\n",
    "\n",
    "<h4>SCP : Secure Copy Protocol</h4>\n",
    "\n",
    "```bash\n",
    "scp [options] source_file_or_directory destination_file_or_directory\n",
    "```\n",
    "\n",
    "<p>to copy a directory recursively user -r option</p>\n",
    "\n",
    "<p>destination should be (user@ip:<path>)</p>\n",
    "\n",
    "<h4>FTP : File Transfer Protocol</h4>\n",
    "\n",
    "<h4>SFTP : Secure File Transfer Protocol</h4>\n",
    "\n",
    "<p>use l before commands to work on local machine and normal commands to work on server</p>\n",
    "\n",
    "<p>for connecting : </p>\n",
    "\n",
    "```bash\n",
    "sftp username@remote-server\n",
    "```\n",
    "\n",
    "<p>change dirs : </p>\n",
    "\n",
    "```bash\n",
    "sftp> lcd /path/to/local/directory\n",
    "sftp> cd /path/to/remote/directory\n",
    "```\n",
    "\n",
    "<p>put and get : </p>\n",
    "\n",
    "```bash\n",
    "sftp> put example.txt\n",
    "sftp> get example.txt\n",
    "```\n",
    "\n",
    "<p>to copy a directory recursively use -r option</p>\n",
    "\n",
    "```bash\n",
    "sftp> put -r example_directory\n",
    "sftp> get -r example_directory\n",
    "```\n",
    "\n",
    "<p>to exit : </p>\n",
    "\n",
    "```bash\n",
    "sftp> exit\n",
    "```"
   ],
   "id": "259789c17f7f16e6"
  },
  {
   "metadata": {},
   "cell_type": "markdown",
   "source": "",
   "id": "80dd06e7c37f3425"
  }
 ],
 "metadata": {
  "kernelspec": {
   "display_name": "Python 3",
   "language": "python",
   "name": "python3"
  },
  "language_info": {
   "codemirror_mode": {
    "name": "ipython",
    "version": 2
   },
   "file_extension": ".py",
   "mimetype": "text/x-python",
   "name": "python",
   "nbconvert_exporter": "python",
   "pygments_lexer": "ipython2",
   "version": "2.7.6"
  }
 },
 "nbformat": 4,
 "nbformat_minor": 5
}
