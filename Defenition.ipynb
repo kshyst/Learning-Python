{
 "cells": [
  {
   "metadata": {},
   "cell_type": "markdown",
   "source": "<h1>Defenitions in Python</h1>",
   "id": "80f08588277e9d6"
  },
  {
   "metadata": {},
   "cell_type": "markdown",
   "source": [
    "<h3>interpreter</h3>\n",
    "<p>Python interpreter is a program that reads and executes the code written in Python language. It is a command line program that takes the code as input and executes it. It is also known as a REPL (Read-Eval-Print Loop). It reads the code line by line and executes it immediately. If there is an error in the code, it stops the execution and shows an error message.</p>\n",
    "\n",
    "<p>\n",
    "\n",
    "1. Compiler transforms code written in a high-level programming language into \n",
    "the machine code, at once, before program runs, whereas an Interpreter converts\n",
    "each high-level program statement, one by one, into the machine code, during \n",
    "program run.\n",
    "\n",
    "2. Compiled code runs faster while interpreted code runs slower.\n",
    "\n",
    "3. Compiler displays all errors after compilation, on the other hand, \n",
    "the Interpreter displays errors of each line one by one.\n",
    "\n",
    "4. Compiler is based on translation linking-loading model, \n",
    "whereas Interpreter is based on Interpretation Method.\n",
    "\n",
    "5. Compiler takes an entire program whereas the Interpreter takes a single \n",
    "line of code.</p>\n"
   ],
   "id": "714cb156ae800211"
  },
  {
   "metadata": {},
   "cell_type": "markdown",
   "source": "",
   "id": "d12d28b93829fb81"
  }
 ],
 "metadata": {
  "kernelspec": {
   "display_name": "Python 3",
   "language": "python",
   "name": "python3"
  },
  "language_info": {
   "codemirror_mode": {
    "name": "ipython",
    "version": 2
   },
   "file_extension": ".py",
   "mimetype": "text/x-python",
   "name": "python",
   "nbconvert_exporter": "python",
   "pygments_lexer": "ipython2",
   "version": "2.7.6"
  }
 },
 "nbformat": 4,
 "nbformat_minor": 5
}
