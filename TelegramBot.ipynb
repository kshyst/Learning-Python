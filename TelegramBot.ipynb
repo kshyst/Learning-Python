{
 "cells": [
  {
   "metadata": {},
   "cell_type": "markdown",
   "source": [
    "<h3>Install dependencies</h3>\n",
    "\n",
    "<p>make sure to activate virtual environment</p>\n",
    "\n",
    "```bash\n",
    "pip install python-telegram-bot\n",
    "pip install \"python-telegram-bot[job-queue]\"\n",
    "```\n",
    "\n"
   ],
   "id": "20ca5d249365b80e"
  },
  {
   "metadata": {},
   "cell_type": "markdown",
   "source": [
    "<h3>Import libraries</h3>\n",
    "\n",
    "```python\n",
    "import logging\n",
    "from telegram import Update\n",
    "from telegram.ext import Updater, CommandHandler, CallbackContext, MessageHandler, Filters\n",
    "```\n"
   ],
   "id": "1234aaff5f6984a9"
  },
  {
   "metadata": {},
   "cell_type": "markdown",
   "source": [
    "<h3>Set up logging</h3>\n",
    "\n",
    "```python\n",
    "logging.basicConfig(\n",
    "    format=\"%(asctime)s - %(name)s - %(levelname)s - %(message)s\", level=logging.INFO\n",
    ")\n",
    "logging.getLogger(\"httpx\").setLevel(logging.WARNING)\n",
    "logger = logging.getLogger(__name__)\n",
    "```"
   ],
   "id": "fcce058d1bc788f4"
  },
  {
   "metadata": {},
   "cell_type": "markdown",
   "source": [
    "\n",
    "<h3>Define functions</h3>\n",
    "\n",
    "```python\n",
    "async def start(update: Update, context: ContextTypes.DEFAULT_TYPE) -> None:\n",
    "    await update.message.reply_text('Hi!')\n",
    "\n",
    "\n",
    "async def alarm(context: ContextTypes.DEFAULT_TYPE) -> None:\n",
    "    job = context.job\n",
    "    await context.bot.send_message(job.chat_id, text=f\"Beep! {job.data} seconds are over!\")\n",
    "\n",
    "\n",
    "async def set_timer(update: Update, context: ContextTypes.DEFAULT_TYPE) -> None:\n",
    "    chat_id = update.effective_message.chat_id\n",
    "    due = float(context.args[0])\n",
    "    context.job_queue.run_once(alarm, due, chat_id=chat_id, name=str(chat_id), data=due)\n",
    "\n",
    "\n",
    "if __name__ == \"__main__\":\n",
    "    application = ApplicationBuilder().token(token).build()\n",
    "\n",
    "    application.add_handler(CommandHandler(\"start\", start))\n",
    "    application.add_handler(CommandHandler(\"set\", set_timer))\n",
    "    application.run_polling()\n",
    "```\n"
   ],
   "id": "2f62a8b2b3d0e30e"
  },
  {
   "metadata": {},
   "cell_type": "markdown",
   "source": "",
   "id": "b9f02e8e4e94929d"
  }
 ],
 "metadata": {
  "kernelspec": {
   "display_name": "Python 3",
   "language": "python",
   "name": "python3"
  },
  "language_info": {
   "codemirror_mode": {
    "name": "ipython",
    "version": 2
   },
   "file_extension": ".py",
   "mimetype": "text/x-python",
   "name": "python",
   "nbconvert_exporter": "python",
   "pygments_lexer": "ipython2",
   "version": "2.7.6"
  }
 },
 "nbformat": 4,
 "nbformat_minor": 5
}
