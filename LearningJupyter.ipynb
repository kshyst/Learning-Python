{
 "cells": [
  {
   "metadata": {},
   "cell_type": "markdown",
   "source": "<h1>Learning Jupyter</h1>",
   "id": "7f1aaa2e34b50b79"
  },
  {
   "metadata": {},
   "cell_type": "markdown",
   "source": [
    "<h2>What is Jupyter?</h2>\n",
    "<p>Jupyter is an open-source web application that allows you to create and share documents that contain live code, equations, visualizations and narrative text.</p>\n",
    "<p>Jupyter is a powerful tool for interactively developing and presenting data science projects.</p>\n",
    "<p>Jupyter supports over 40 programming languages, including Python, R, Julia, and Scala.</p>\n",
    "<p>Jupyter is often used for data cleaning and transformation, numerical simulation, statistical modeling, data visualization, machine learning, and much more.</p>\n",
    "<p>Jupyter is maintained by the people at Project Jupyter.</p>\n",
    "<p>Jupyter is named after the three core programming languages it was designed for: Julia, Python, and R.</p>\n",
    "<p>Jupyter codes are saved as a json file with .ipynb extension</p>\n",
    "<p>Jupyter is a great tool for data analysis and data visualization.</p>"
   ],
   "id": "6e639aec852525f"
  },
  {
   "metadata": {},
   "cell_type": "markdown",
   "source": [
    "<h2>Ipython</h2>\n",
    "<p>IPython is an interactive command shell and a kernel for Jupyter.</p>\n",
    "<p>It is an enhanced interactive Python shell.</p>\n",
    "<p>It is a replacement for the standard Python shell.</p>\n",
    "<p>It is a command shell for interactive computing in multiple programming languages.</p>\n",
    "<p>It provides a rich architecture for interactive computing.</p>\n",
    "<p>It provides support for interactive data visualization and use of GUI toolkits.</p>\n",
    "<p>It provides support for parallel computing.</p>\n"
   ],
   "id": "4ea7a1039cebe09d"
  },
  {
   "metadata": {},
   "cell_type": "markdown",
   "source": "<h2>add bash commands</h2>\n",
   "id": "c5ef5b61bbae10bd"
  },
  {
   "metadata": {
    "ExecuteTime": {
     "end_time": "2024-07-10T13:26:37.869282Z",
     "start_time": "2024-07-10T13:26:35.953547Z"
    }
   },
   "cell_type": "code",
   "source": "!pip list",
   "id": "d76f3c8e04a0a27f",
   "outputs": [
    {
     "name": "stdout",
     "output_type": "stream",
     "text": [
      "Package                   Version\n",
      "------------------------- -----------\n",
      "anaconda-anon-usage       0.4.4\n",
      "anyio                     4.2.0\n",
      "archspec                  0.2.3\n",
      "argon2-cffi               21.3.0\n",
      "argon2-cffi-bindings      21.2.0\n",
      "asttokens                 2.4.1\n",
      "async-lru                 2.0.4\n",
      "attrs                     23.1.0\n",
      "Babel                     2.11.0\n",
      "beautifulsoup4            4.12.3\n",
      "bleach                    4.1.0\n",
      "boltons                   23.0.0\n",
      "Bottleneck                1.3.7\n",
      "Brotli                    1.0.9\n",
      "certifi                   2024.7.4\n",
      "cffi                      1.16.0\n",
      "charset-normalizer        2.0.4\n",
      "colorama                  0.4.6\n",
      "comm                      0.2.2\n",
      "conda                     24.5.0\n",
      "conda-content-trust       0.2.0\n",
      "conda-libmamba-solver     24.1.0\n",
      "conda-package-handling    2.2.0\n",
      "conda_package_streaming   0.9.0\n",
      "contourpy                 1.2.0\n",
      "cryptography              42.0.5\n",
      "cycler                    0.11.0\n",
      "debugpy                   1.8.2\n",
      "decorator                 5.1.1\n",
      "defusedxml                0.7.1\n",
      "distro                    1.8.0\n",
      "executing                 2.0.1\n",
      "fastjsonschema            2.16.2\n",
      "fonttools                 4.51.0\n",
      "frozendict                2.4.2\n",
      "idna                      3.4\n",
      "ipykernel                 6.29.5\n",
      "ipython                   8.26.0\n",
      "ipywidgets                8.1.2\n",
      "jedi                      0.19.1\n",
      "Jinja2                    3.1.4\n",
      "json5                     0.9.6\n",
      "jsonpatch                 1.33\n",
      "jsonpointer               2.1\n",
      "jsonschema                4.19.2\n",
      "jsonschema-specifications 2023.7.1\n",
      "jupyter                   1.0.0\n",
      "jupyter_client            8.6.2\n",
      "jupyter-console           6.6.3\n",
      "jupyter_core              5.7.2\n",
      "jupyter-events            0.10.0\n",
      "jupyter-lsp               2.2.0\n",
      "jupyter_server            2.14.1\n",
      "jupyter_server_terminals  0.4.4\n",
      "jupyterlab                4.0.11\n",
      "jupyterlab-pygments       0.1.2\n",
      "jupyterlab_server         2.25.1\n",
      "jupyterlab-widgets        3.0.10\n",
      "kiwisolver                1.4.4\n",
      "libmambapy                1.5.8\n",
      "MarkupSafe                2.1.3\n",
      "matplotlib                3.8.4\n",
      "matplotlib-inline         0.1.7\n",
      "menuinst                  2.0.2\n",
      "mistune                   2.0.4\n",
      "mkl-fft                   1.3.8\n",
      "mkl-random                1.2.4\n",
      "mkl-service               2.4.0\n",
      "nbclient                  0.8.0\n",
      "nbconvert                 7.10.0\n",
      "nbformat                  5.9.2\n",
      "nest-asyncio              1.6.0\n",
      "notebook                  7.0.8\n",
      "notebook_shim             0.2.3\n",
      "numexpr                   2.8.7\n",
      "numpy                     1.26.4\n",
      "overrides                 7.4.0\n",
      "packaging                 24.1\n",
      "pandas                    2.2.2\n",
      "pandocfilters             1.5.0\n",
      "parso                     0.8.4\n",
      "pillow                    10.3.0\n",
      "pip                       23.3.1\n",
      "platformdirs              4.2.2\n",
      "pluggy                    1.0.0\n",
      "ply                       3.11\n",
      "prometheus-client         0.14.1\n",
      "prompt_toolkit            3.0.47\n",
      "psutil                    6.0.0\n",
      "pure-eval                 0.2.2\n",
      "pycosat                   0.6.6\n",
      "pycparser                 2.21\n",
      "Pygments                  2.18.0\n",
      "pyparsing                 3.0.9\n",
      "PyQt5                     5.15.10\n",
      "PyQt5-sip                 12.13.0\n",
      "PySocks                   1.7.1\n",
      "python-dateutil           2.9.0.post0\n",
      "python-json-logger        2.0.7\n",
      "pytz                      2024.1\n",
      "pywin32                   305.1\n",
      "pywinpty                  2.0.10\n",
      "PyYAML                    6.0.1\n",
      "pyzmq                     26.0.3\n",
      "qtconsole                 5.5.1\n",
      "QtPy                      2.4.1\n",
      "referencing               0.30.2\n",
      "requests                  2.31.0\n",
      "rfc3339-validator         0.1.4\n",
      "rfc3986-validator         0.1.1\n",
      "rpds-py                   0.10.6\n",
      "ruamel.yaml               0.17.21\n",
      "Send2Trash                1.8.2\n",
      "setuptools                68.2.2\n",
      "sip                       6.7.12\n",
      "six                       1.16.0\n",
      "sniffio                   1.3.0\n",
      "soupsieve                 2.5\n",
      "stack-data                0.6.3\n",
      "terminado                 0.17.1\n",
      "tinycss2                  1.2.1\n",
      "tornado                   6.4.1\n",
      "tqdm                      4.65.0\n",
      "traitlets                 5.14.3\n",
      "truststore                0.8.0\n",
      "typing_extensions         4.11.0\n",
      "tzdata                    2023.3\n",
      "unicodedata2              15.1.0\n",
      "urllib3                   2.1.0\n",
      "wcwidth                   0.2.13\n",
      "webencodings              0.5.1\n",
      "websocket-client          1.8.0\n",
      "wheel                     0.41.2\n",
      "widgetsnbextension        4.0.10\n",
      "win-inet-pton             1.1.0\n",
      "zstandard                 0.19.0\n"
     ]
    }
   ],
   "execution_count": 1
  },
  {
   "metadata": {},
   "cell_type": "markdown",
   "source": "",
   "id": "276f92f6ce7eab6b"
  },
  {
   "metadata": {},
   "cell_type": "markdown",
   "source": [
    "<h2>magic commands</h2>\n",
    "\n",
    "<p>magic commands are special commands that can be used in a cell to perform special operations</p>\n",
    "<p>magic commands are prefixed with % for line or %% for whole cell</p>\n",
    "\n"
   ],
   "id": "1253a2df87ab2f8f"
  },
  {
   "metadata": {
    "ExecuteTime": {
     "end_time": "2024-07-10T13:29:04.043Z",
     "start_time": "2024-07-10T13:29:04.035198Z"
    }
   },
   "cell_type": "code",
   "source": "%lsmagic",
   "id": "e51b90438e7a69af",
   "outputs": [
    {
     "data": {
      "text/plain": [
       "Available line magics:\n",
       "%alias  %alias_magic  %autoawait  %autocall  %automagic  %autosave  %bookmark  %cd  %clear  %cls  %code_wrap  %colors  %conda  %config  %connect_info  %copy  %ddir  %debug  %dhist  %dirs  %doctest_mode  %echo  %ed  %edit  %env  %gui  %hist  %history  %killbgscripts  %ldir  %less  %load  %load_ext  %loadpy  %logoff  %logon  %logstart  %logstate  %logstop  %ls  %lsmagic  %macro  %magic  %mamba  %matplotlib  %micromamba  %mkdir  %more  %notebook  %page  %pastebin  %pdb  %pdef  %pdoc  %pfile  %pinfo  %pinfo2  %pip  %popd  %pprint  %precision  %prun  %psearch  %psource  %pushd  %pwd  %pycat  %pylab  %qtconsole  %quickref  %recall  %rehashx  %reload_ext  %ren  %rep  %rerun  %reset  %reset_selective  %rmdir  %run  %save  %sc  %set_env  %store  %sx  %system  %tb  %time  %timeit  %unalias  %unload_ext  %who  %who_ls  %whos  %xdel  %xmode\n",
       "\n",
       "Available cell magics:\n",
       "%%!  %%HTML  %%SVG  %%bash  %%capture  %%cmd  %%code_wrap  %%debug  %%file  %%html  %%javascript  %%js  %%latex  %%markdown  %%perl  %%prun  %%pypy  %%python  %%python2  %%python3  %%ruby  %%script  %%sh  %%svg  %%sx  %%system  %%time  %%timeit  %%writefile\n",
       "\n",
       "Automagic is ON, % prefix IS NOT needed for line magics."
      ],
      "application/json": {
       "line": {
        "automagic": "AutoMagics",
        "autocall": "AutoMagics",
        "alias_magic": "BasicMagics",
        "lsmagic": "BasicMagics",
        "magic": "BasicMagics",
        "page": "BasicMagics",
        "pprint": "BasicMagics",
        "colors": "BasicMagics",
        "xmode": "BasicMagics",
        "quickref": "BasicMagics",
        "doctest_mode": "BasicMagics",
        "gui": "BasicMagics",
        "precision": "BasicMagics",
        "notebook": "BasicMagics",
        "save": "CodeMagics",
        "pastebin": "CodeMagics",
        "loadpy": "CodeMagics",
        "load": "CodeMagics",
        "edit": "KernelMagics",
        "config": "ConfigMagics",
        "prun": "ExecutionMagics",
        "pdb": "ExecutionMagics",
        "debug": "ExecutionMagics",
        "tb": "ExecutionMagics",
        "run": "ExecutionMagics",
        "timeit": "ExecutionMagics",
        "time": "ExecutionMagics",
        "macro": "ExecutionMagics",
        "code_wrap": "ExecutionMagics",
        "load_ext": "ExtensionMagics",
        "unload_ext": "ExtensionMagics",
        "reload_ext": "ExtensionMagics",
        "history": "HistoryMagics",
        "recall": "HistoryMagics",
        "rerun": "HistoryMagics",
        "logstart": "LoggingMagics",
        "logstop": "LoggingMagics",
        "logoff": "LoggingMagics",
        "logon": "LoggingMagics",
        "logstate": "LoggingMagics",
        "pinfo": "NamespaceMagics",
        "pinfo2": "NamespaceMagics",
        "pdef": "NamespaceMagics",
        "pdoc": "NamespaceMagics",
        "psource": "NamespaceMagics",
        "pfile": "NamespaceMagics",
        "psearch": "NamespaceMagics",
        "who_ls": "NamespaceMagics",
        "who": "NamespaceMagics",
        "whos": "NamespaceMagics",
        "reset": "NamespaceMagics",
        "reset_selective": "NamespaceMagics",
        "xdel": "NamespaceMagics",
        "alias": "OSMagics",
        "unalias": "OSMagics",
        "rehashx": "OSMagics",
        "pwd": "OSMagics",
        "cd": "OSMagics",
        "env": "OSMagics",
        "set_env": "OSMagics",
        "pushd": "OSMagics",
        "popd": "OSMagics",
        "dirs": "OSMagics",
        "dhist": "OSMagics",
        "sc": "OSMagics",
        "sx": "OSMagics",
        "system": "OSMagics",
        "bookmark": "OSMagics",
        "pycat": "OSMagics",
        "pip": "PackagingMagics",
        "conda": "PackagingMagics",
        "mamba": "PackagingMagics",
        "micromamba": "PackagingMagics",
        "matplotlib": "PylabMagics",
        "pylab": "PylabMagics",
        "killbgscripts": "ScriptMagics",
        "autoawait": "AsyncMagics",
        "ed": "Other",
        "hist": "Other",
        "rep": "Other",
        "clear": "KernelMagics",
        "cls": "KernelMagics",
        "less": "KernelMagics",
        "more": "KernelMagics",
        "connect_info": "KernelMagics",
        "qtconsole": "KernelMagics",
        "autosave": "KernelMagics",
        "ls": "Other",
        "ddir": "Other",
        "ldir": "Other",
        "mkdir": "Other",
        "rmdir": "Other",
        "echo": "Other",
        "ren": "Other",
        "copy": "Other",
        "store": "StoreMagics"
       },
       "cell": {
        "js": "DisplayMagics",
        "javascript": "DisplayMagics",
        "latex": "DisplayMagics",
        "svg": "DisplayMagics",
        "html": "DisplayMagics",
        "markdown": "DisplayMagics",
        "prun": "ExecutionMagics",
        "debug": "ExecutionMagics",
        "timeit": "ExecutionMagics",
        "time": "ExecutionMagics",
        "capture": "ExecutionMagics",
        "code_wrap": "ExecutionMagics",
        "sx": "OSMagics",
        "system": "OSMagics",
        "!": "OSMagics",
        "writefile": "OSMagics",
        "script": "ScriptMagics",
        "sh": "Other",
        "bash": "Other",
        "perl": "Other",
        "ruby": "Other",
        "python": "Other",
        "python2": "Other",
        "python3": "Other",
        "pypy": "Other",
        "cmd": "Other",
        "SVG": "Other",
        "HTML": "Other",
        "file": "Other"
       }
      }
     },
     "execution_count": 2,
     "metadata": {},
     "output_type": "execute_result"
    }
   ],
   "execution_count": 2
  },
  {
   "metadata": {
    "ExecuteTime": {
     "end_time": "2024-07-10T13:29:29.736107Z",
     "start_time": "2024-07-10T13:29:29.730638Z"
    }
   },
   "cell_type": "code",
   "source": "%pwd",
   "id": "339dc56c25da6f51",
   "outputs": [
    {
     "data": {
      "text/plain": [
       "'S:\\\\Python Projects\\\\Training'"
      ]
     },
     "execution_count": 3,
     "metadata": {},
     "output_type": "execute_result"
    }
   ],
   "execution_count": 3
  },
  {
   "metadata": {
    "ExecuteTime": {
     "end_time": "2024-07-10T13:29:45.449974Z",
     "start_time": "2024-07-10T13:29:45.417820Z"
    }
   },
   "cell_type": "code",
   "source": "%ls",
   "id": "96dc5a06ca8aa0bf",
   "outputs": [
    {
     "name": "stdout",
     "output_type": "stream",
     "text": [
      " Volume in drive S is Main Drive\n",
      " Volume Serial Number is 3C0D-3BB7\n",
      "\n",
      " Directory of S:\\Python Projects\\Training\n",
      "\n",
      "07/10/2024  04:59 PM    <DIR>          .\n",
      "07/10/2024  11:56 AM    <DIR>          ..\n",
      "07/10/2024  04:53 PM    <DIR>          .idea\n",
      "07/10/2024  11:56 AM    <DIR>          .venv\n",
      "07/10/2024  04:53 PM             2,074 Defenition.ipynb\n",
      "07/10/2024  04:59 PM            14,587 LearningJupyter.ipynb\n",
      "07/10/2024  11:58 AM               106 main.py\n",
      "               3 File(s)         16,767 bytes\n",
      "               4 Dir(s)  163,079,942,144 bytes free\n"
     ]
    }
   ],
   "execution_count": 4
  },
  {
   "metadata": {
    "ExecuteTime": {
     "end_time": "2024-07-10T13:30:21.394301Z",
     "start_time": "2024-07-10T13:30:21.376551Z"
    }
   },
   "cell_type": "code",
   "source": "%system",
   "id": "615633dfc5f81967",
   "outputs": [
    {
     "data": {
      "text/plain": [
       "[]"
      ]
     },
     "execution_count": 5,
     "metadata": {},
     "output_type": "execute_result"
    }
   ],
   "execution_count": 5
  },
  {
   "metadata": {
    "ExecuteTime": {
     "end_time": "2024-07-10T13:30:26.022905Z",
     "start_time": "2024-07-10T13:30:26.019283Z"
    }
   },
   "cell_type": "code",
   "source": "%time",
   "id": "3f3dcbed1d509613",
   "outputs": [
    {
     "name": "stdout",
     "output_type": "stream",
     "text": [
      "CPU times: total: 0 ns\n",
      "Wall time: 0 ns\n"
     ]
    }
   ],
   "execution_count": 6
  },
  {
   "metadata": {},
   "cell_type": "markdown",
   "source": "<h3>this will show the chart of matplotlib in the notebook</h3>",
   "id": "3a0cea9cb9b208d6"
  },
  {
   "metadata": {
    "ExecuteTime": {
     "end_time": "2024-07-10T13:30:39.629008Z",
     "start_time": "2024-07-10T13:30:39.069864Z"
    }
   },
   "cell_type": "code",
   "source": "%matplotlib inline",
   "id": "edba256e6231b7af",
   "outputs": [],
   "execution_count": 7
  },
  {
   "metadata": {},
   "cell_type": "markdown",
   "source": "<h3> %%HTML will render the whole cell as HTML</h3>",
   "id": "46fa5af0be88c295"
  },
  {
   "metadata": {
    "ExecuteTime": {
     "end_time": "2024-07-10T13:34:50.589054Z",
     "start_time": "2024-07-10T13:34:50.572146Z"
    }
   },
   "cell_type": "code",
   "source": [
    "%%HTML\n",
    "<iframe src=\"https://encrypted-tbn0.gstatic.com/images?q=tbn:ANd9GcSUMxjK6Onv2A_5cZejvQWcRpUzXGqHxT59IQ&s\" width=\"200\"></iframe>\n"
   ],
   "id": "8c5eb09e055a4633",
   "outputs": [
    {
     "data": {
      "text/plain": [
       "<IPython.core.display.HTML object>"
      ],
      "text/html": [
       "<iframe src=\"https://encrypted-tbn0.gstatic.com/images?q=tbn:ANd9GcSUMxjK6Onv2A_5cZejvQWcRpUzXGqHxT59IQ&s\" width=\"200\"></iframe>\n",
       "\n"
      ]
     },
     "metadata": {},
     "output_type": "display_data"
    }
   ],
   "execution_count": 14
  },
  {
   "metadata": {},
   "cell_type": "markdown",
   "source": "<p> it also have same for latex , javascript and many more</p>",
   "id": "f1754945bd154f62"
  },
  {
   "metadata": {},
   "cell_type": "markdown",
   "source": "<h3> %%timeit will run the cell multiple times and give the average time taken</h3>",
   "id": "b370a020448130c"
  },
  {
   "metadata": {
    "ExecuteTime": {
     "end_time": "2024-07-10T13:38:23.357054Z",
     "start_time": "2024-07-10T13:38:19.305288Z"
    }
   },
   "cell_type": "code",
   "source": [
    "%%timeit\n",
    "a = 0\n",
    "for i in range(1000):\n",
    "    a += i"
   ],
   "id": "f815650af535fb4e",
   "outputs": [
    {
     "name": "stdout",
     "output_type": "stream",
     "text": [
      "50 μs ± 8.46 μs per loop (mean ± std. dev. of 7 runs, 10,000 loops each)\n"
     ]
    }
   ],
   "execution_count": 15
  },
  {
   "metadata": {},
   "cell_type": "markdown",
   "source": "",
   "id": "246fa189a38e71c2"
  },
  {
   "metadata": {},
   "cell_type": "markdown",
   "source": "<h3> use Pandas to create a dataframe</h3>",
   "id": "2115c7350a0aaf82"
  },
  {
   "metadata": {
    "ExecuteTime": {
     "end_time": "2024-07-10T13:39:40.007193Z",
     "start_time": "2024-07-10T13:39:39.657926Z"
    }
   },
   "cell_type": "code",
   "source": [
    "import pandas as pd\n",
    "import numpy as np\n",
    "\n",
    "df = pd.DataFrame(np.random.randn(10,5))\n",
    "df"
   ],
   "id": "211f619cdfe54532",
   "outputs": [
    {
     "data": {
      "text/plain": [
       "          0         1         2         3         4\n",
       "0  1.480880  1.456933 -0.357052  0.906512 -1.008523\n",
       "1  1.400166  0.981908  0.733751 -0.959942  0.619751\n",
       "2  0.898580  0.213423  1.294480  0.690615  0.536265\n",
       "3 -0.535827  0.292794 -1.344744 -1.220773  0.922531\n",
       "4 -1.248707 -0.671837  0.117326  1.152629 -1.345236\n",
       "5  0.136487  1.010019  0.135619 -1.201886  0.254260\n",
       "6 -1.079333 -1.622606 -1.762141  0.356803  0.439696\n",
       "7  0.253219  1.101944  0.479753 -1.828139 -1.560120\n",
       "8 -0.078905 -0.792663 -0.177931 -0.145887 -1.952169\n",
       "9 -0.087538  0.565863  0.217249  0.199978 -1.311129"
      ],
      "text/html": [
       "<div>\n",
       "<style scoped>\n",
       "    .dataframe tbody tr th:only-of-type {\n",
       "        vertical-align: middle;\n",
       "    }\n",
       "\n",
       "    .dataframe tbody tr th {\n",
       "        vertical-align: top;\n",
       "    }\n",
       "\n",
       "    .dataframe thead th {\n",
       "        text-align: right;\n",
       "    }\n",
       "</style>\n",
       "<table border=\"1\" class=\"dataframe\">\n",
       "  <thead>\n",
       "    <tr style=\"text-align: right;\">\n",
       "      <th></th>\n",
       "      <th>0</th>\n",
       "      <th>1</th>\n",
       "      <th>2</th>\n",
       "      <th>3</th>\n",
       "      <th>4</th>\n",
       "    </tr>\n",
       "  </thead>\n",
       "  <tbody>\n",
       "    <tr>\n",
       "      <th>0</th>\n",
       "      <td>1.480880</td>\n",
       "      <td>1.456933</td>\n",
       "      <td>-0.357052</td>\n",
       "      <td>0.906512</td>\n",
       "      <td>-1.008523</td>\n",
       "    </tr>\n",
       "    <tr>\n",
       "      <th>1</th>\n",
       "      <td>1.400166</td>\n",
       "      <td>0.981908</td>\n",
       "      <td>0.733751</td>\n",
       "      <td>-0.959942</td>\n",
       "      <td>0.619751</td>\n",
       "    </tr>\n",
       "    <tr>\n",
       "      <th>2</th>\n",
       "      <td>0.898580</td>\n",
       "      <td>0.213423</td>\n",
       "      <td>1.294480</td>\n",
       "      <td>0.690615</td>\n",
       "      <td>0.536265</td>\n",
       "    </tr>\n",
       "    <tr>\n",
       "      <th>3</th>\n",
       "      <td>-0.535827</td>\n",
       "      <td>0.292794</td>\n",
       "      <td>-1.344744</td>\n",
       "      <td>-1.220773</td>\n",
       "      <td>0.922531</td>\n",
       "    </tr>\n",
       "    <tr>\n",
       "      <th>4</th>\n",
       "      <td>-1.248707</td>\n",
       "      <td>-0.671837</td>\n",
       "      <td>0.117326</td>\n",
       "      <td>1.152629</td>\n",
       "      <td>-1.345236</td>\n",
       "    </tr>\n",
       "    <tr>\n",
       "      <th>5</th>\n",
       "      <td>0.136487</td>\n",
       "      <td>1.010019</td>\n",
       "      <td>0.135619</td>\n",
       "      <td>-1.201886</td>\n",
       "      <td>0.254260</td>\n",
       "    </tr>\n",
       "    <tr>\n",
       "      <th>6</th>\n",
       "      <td>-1.079333</td>\n",
       "      <td>-1.622606</td>\n",
       "      <td>-1.762141</td>\n",
       "      <td>0.356803</td>\n",
       "      <td>0.439696</td>\n",
       "    </tr>\n",
       "    <tr>\n",
       "      <th>7</th>\n",
       "      <td>0.253219</td>\n",
       "      <td>1.101944</td>\n",
       "      <td>0.479753</td>\n",
       "      <td>-1.828139</td>\n",
       "      <td>-1.560120</td>\n",
       "    </tr>\n",
       "    <tr>\n",
       "      <th>8</th>\n",
       "      <td>-0.078905</td>\n",
       "      <td>-0.792663</td>\n",
       "      <td>-0.177931</td>\n",
       "      <td>-0.145887</td>\n",
       "      <td>-1.952169</td>\n",
       "    </tr>\n",
       "    <tr>\n",
       "      <th>9</th>\n",
       "      <td>-0.087538</td>\n",
       "      <td>0.565863</td>\n",
       "      <td>0.217249</td>\n",
       "      <td>0.199978</td>\n",
       "      <td>-1.311129</td>\n",
       "    </tr>\n",
       "  </tbody>\n",
       "</table>\n",
       "</div>"
      ]
     },
     "execution_count": 16,
     "metadata": {},
     "output_type": "execute_result"
    }
   ],
   "execution_count": 16
  },
  {
   "metadata": {},
   "cell_type": "markdown",
   "source": "",
   "id": "da37feec2d87211a"
  }
 ],
 "metadata": {
  "kernelspec": {
   "display_name": "Python 3",
   "language": "python",
   "name": "python3"
  },
  "language_info": {
   "codemirror_mode": {
    "name": "ipython",
    "version": 2
   },
   "file_extension": ".py",
   "mimetype": "text/x-python",
   "name": "python",
   "nbconvert_exporter": "python",
   "pygments_lexer": "ipython2",
   "version": "2.7.6"
  }
 },
 "nbformat": 4,
 "nbformat_minor": 5
}
