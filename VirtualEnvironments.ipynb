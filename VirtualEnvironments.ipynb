{
 "cells": [
  {
   "metadata": {},
   "cell_type": "markdown",
   "source": [
    "<h3>Activating</h3>\n",
    "\n",
    "<p>conda : </p>\n",
    "\n",
    "```bash\n",
    "conda activate myenv\n",
    "```\n",
    "\n",
    "<p>virtualenv : </p>\n",
    "\n",
    "<p>linux : </p>\n",
    "\n",
    "```bash\n",
    "source myenv/bin/activate\n",
    "```\n",
    "\n",
    "<p>windows : </p>\n",
    "\n",
    "```bash\n",
    "myenv\\Scripts\\activate\n",
    "```\n",
    "\n",
    "<p>deactivate : </p>\n",
    "\n",
    "<p>conda :</p>\n",
    "\n",
    "```bash\n",
    "conda deactivate\n",
    "```\n",
    "\n",
    "<p>virtualenv :</p>\n",
    "\n",
    "```bash\n",
    "deactivate\n",
    "```\n",
    "\n",
    "<p>Listing all environments : </p>\n",
    "\n",
    "<p>conda :</p>\n",
    "    \n",
    "```bash\n",
    "  conda env list\n",
    "```\n"
   ],
   "id": "c34e25a95d3dc261"
  }
 ],
 "metadata": {
  "kernelspec": {
   "display_name": "Python 3",
   "language": "python",
   "name": "python3"
  },
  "language_info": {
   "codemirror_mode": {
    "name": "ipython",
    "version": 2
   },
   "file_extension": ".py",
   "mimetype": "text/x-python",
   "name": "python",
   "nbconvert_exporter": "python",
   "pygments_lexer": "ipython2",
   "version": "2.7.6"
  }
 },
 "nbformat": 4,
 "nbformat_minor": 5
}
